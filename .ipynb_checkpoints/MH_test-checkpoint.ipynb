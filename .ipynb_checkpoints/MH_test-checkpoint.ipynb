{
 "cells": [
  {
   "cell_type": "code",
   "execution_count": 11,
   "id": "b8983631-00a6-4671-9237-ea062b5072af",
   "metadata": {},
   "outputs": [],
   "source": [
    "import numpy as np\n",
    "import tensorflow as tf\n",
    "from tensorflow.keras.models import Sequential\n",
    "from tensorflow.keras.layers import Dense, Dropout, LSTM, Embedding, BatchNormalization, Bidirectional\n",
    "from tensorflow.keras.callbacks import ModelCheckpoint\n",
    "from tensorflow.keras.preprocessing.text import Tokenizer\n",
    "import sys"
   ]
  },
  {
   "cell_type": "code",
   "execution_count": 12,
   "id": "5dddb445-513d-43c4-854a-f6932c6b26de",
   "metadata": {},
   "outputs": [],
   "source": [
    "filename = \"mental_H.txt\"\n",
    "with open(filename, \"r\", encoding=\"utf-8\", errors=\"ignore\") as file:\n",
    "    raw_text = file.read().lower()"
   ]
  },
  {
   "cell_type": "code",
   "execution_count": 13,
   "id": "98d93ad2-5e4e-4ca7-b3c7-6b039573d3d3",
   "metadata": {},
   "outputs": [],
   "source": [
    "import re\n",
    "\n",
    "def clean_text(text):\n",
    "    text = re.sub(r'[^\\w\\s]', '', text)  # Remove punctuation\n",
    "    text = re.sub(r'\\s+', ' ', text)  # Remove extra spaces\n",
    "    text = text.strip().lower()  # Convert to lowercase\n",
    "    return text\n",
    "\n",
    "raw_text = clean_text(raw_text)"
   ]
  },
  {
   "cell_type": "code",
   "execution_count": 14,
   "id": "b814bf34-c751-4f1f-b153-ffa34a39c2d0",
   "metadata": {},
   "outputs": [],
   "source": [
    "tokenizer = Tokenizer(num_words=5000)\n",
    "tokenizer.fit_on_texts([raw_text])\n",
    "sequences = tokenizer.texts_to_sequences([raw_text])[0]\n",
    "\n",
    "vocab_size = len(tokenizer.word_index) + 1\n",
    "\n",
    "seq_length = 150"
   ]
  },
  {
   "cell_type": "code",
   "execution_count": 15,
   "id": "b0e8929b-cb6a-4f08-a593-08bd85708d68",
   "metadata": {},
   "outputs": [
    {
     "ename": "NameError",
     "evalue": "name 'tf' is not defined",
     "output_type": "error",
     "traceback": [
      "\u001b[1;31m---------------------------------------------------------------------------\u001b[0m",
      "\u001b[1;31mNameError\u001b[0m                                 Traceback (most recent call last)",
      "Cell \u001b[1;32mIn[15], line 8\u001b[0m\n\u001b[0;32m      5\u001b[0m     y\u001b[38;5;241m.\u001b[39mappend(sequences[i \u001b[38;5;241m+\u001b[39m seq_length])\n\u001b[0;32m      7\u001b[0m X \u001b[38;5;241m=\u001b[39m np\u001b[38;5;241m.\u001b[39marray(X)\n\u001b[1;32m----> 8\u001b[0m y \u001b[38;5;241m=\u001b[39m \u001b[43mtf\u001b[49m\u001b[38;5;241m.\u001b[39mkeras\u001b[38;5;241m.\u001b[39mutils\u001b[38;5;241m.\u001b[39mto_categorical(y, num_classes\u001b[38;5;241m=\u001b[39mvocab_size)\n\u001b[0;32m     10\u001b[0m \u001b[38;5;66;03m# Reshape for LSTM Input\u001b[39;00m\n\u001b[0;32m     11\u001b[0m X \u001b[38;5;241m=\u001b[39m np\u001b[38;5;241m.\u001b[39mreshape(X, (X\u001b[38;5;241m.\u001b[39mshape[\u001b[38;5;241m0\u001b[39m], X\u001b[38;5;241m.\u001b[39mshape[\u001b[38;5;241m1\u001b[39m]))\n",
      "\u001b[1;31mNameError\u001b[0m: name 'tf' is not defined"
     ]
    }
   ],
   "source": [
    "X = []\n",
    "y = []\n",
    "for i in range(0, len(sequences) - seq_length):\n",
    "    X.append(sequences[i:i + seq_length])\n",
    "    y.append(sequences[i + seq_length])\n",
    "\n",
    "X = np.array(X)\n",
    "y = tf.keras.utils.to_categorical(y, num_classes=vocab_size)\n",
    "\n",
    "# Reshape for LSTM Input\n",
    "X = np.reshape(X, (X.shape[0], X.shape[1]))"
   ]
  },
  {
   "cell_type": "code",
   "execution_count": null,
   "id": "2b3db62f-eb97-4019-aa2a-c1f7f6b86c5c",
   "metadata": {},
   "outputs": [],
   "source": [
    "model = Sequential([\n",
    "    Embedding(vocab_size, 256, input_length=seq_length),\n",
    "    Bidirectional(LSTM(256, return_sequences=True)),\n",
    "    Dropout(0.3),\n",
    "    BatchNormalization(),\n",
    "    Bidirectional(LSTM(256)),\n",
    "    Dropout(0.3),\n",
    "    Dense(vocab_size, activation=\"softmax\")\n",
    "])"
   ]
  },
  {
   "cell_type": "code",
   "execution_count": 48,
   "id": "9c51f5d2-de1a-4b82-8757-0ddb6d130e69",
   "metadata": {},
   "outputs": [],
   "source": [
    "model.compile(loss=\"categorical_crossentropy\", optimizer=\"adam\", metrics=[\"accuracy\"])"
   ]
  },
  {
   "cell_type": "code",
   "execution_count": 49,
   "id": "2917c030-6d9e-4b7c-9018-17347fd10061",
   "metadata": {},
   "outputs": [],
   "source": [
    "checkpoint = ModelCheckpoint(\"weights-best1.hdf5\", monitor=\"loss\", save_best_only=True, verbose=1)\n",
    "callbacks = [checkpoint]"
   ]
  },
  {
   "cell_type": "code",
   "execution_count": null,
   "id": "8d5935e9-fa69-45d3-96ca-47e4d16a058a",
   "metadata": {},
   "outputs": [
    {
     "name": "stdout",
     "output_type": "stream",
     "text": [
      "Epoch 1/20\n",
      "1160/1160 [==============================] - ETA: 0s - loss: 3.0552\n",
      "Epoch 1: loss improved from inf to 3.05517, saving model to weights-improvement-1-3.0552.hdf5\n",
      "1160/1160 [==============================] - 1028s 883ms/step - loss: 3.0552\n",
      "Epoch 2/20\n",
      "1061/1160 [==========================>...] - ETA: 1:28 - loss: 3.0106"
     ]
    }
   ],
   "source": [
    "model.fit(X, y, epochs=100, batch_size=64, callbacks=callbacks)"
   ]
  },
  {
   "cell_type": "code",
   "execution_count": null,
   "id": "1e6fae0f-eb4d-4f30-a26b-292ae6b2f0d1",
   "metadata": {},
   "outputs": [],
   "source": [
    "f_name = \"weights-improvement-14-2.0773.hdf5\"\n",
    "model.load_weights(f_name)"
   ]
  },
  {
   "cell_type": "code",
   "execution_count": null,
   "id": "84871a5b-627d-48ed-b6f5-05ecbed72389",
   "metadata": {},
   "outputs": [],
   "source": [
    "def generate_response(prompt, model, char_to_int, int_to_char, seq_len=100, n_vocab=0):\n",
    "    # Preprocess input\n",
    "    prompt = prompt.lower()\n",
    "    input_pattern = [char_to_int[char] for char in prompt if char in char_to_int]\n",
    "    \n",
    "    # Pad or trim input to match sequence length\n",
    "    while len(input_pattern) < seq_len:\n",
    "        input_pattern.insert(0, 0)  # Pad with zero\n",
    "    input_pattern = input_pattern[-seq_len:]\n",
    "    # Generate response\n",
    "    generated_text = \"\"\n",
    "    for _ in range(200):  # Limit response length\n",
    "        x = numpy.reshape(input_pattern, (1, seq_len, 1))\n",
    "        x = x / float(n_vocab)\n",
    "        prediction = model.predict(x, verbose=0)\n",
    "        index = numpy.argmax(prediction)\n",
    "        result = int_to_char[index]\n",
    "        generated_text += result\n",
    "        \n",
    "        # Update input pattern\n",
    "        input_pattern.append(index)\n",
    "        input_pattern = input_pattern[1:]\n",
    "    \n",
    "    return generated_text.strip()"
   ]
  },
  {
   "cell_type": "code",
   "execution_count": null,
   "id": "bc36e4de-3751-434d-95ae-df70311f27a9",
   "metadata": {},
   "outputs": [],
   "source": [
    "# Chat loop\n",
    "while True:\n",
    "    user_input = input(\"You: \")\n",
    "    if user_input.lower() in [\"exit\", \"quit\"]:\n",
    "        print(\"Chatbot: Goodbye!\")\n",
    "        break\n",
    "    response = generate_response(user_input, model, char_to_int, int_to_char, seq_len, n_vocab)\n",
    "    print(f\"Chatbot: {response}\")"
   ]
  },
  {
   "cell_type": "code",
   "execution_count": null,
   "id": "076a3102-c5d1-4514-8621-d3dc72bfc653",
   "metadata": {},
   "outputs": [],
   "source": []
  },
  {
   "cell_type": "code",
   "execution_count": null,
   "id": "bc34753b-283c-47f4-b904-05b0514d1228",
   "metadata": {},
   "outputs": [],
   "source": []
  },
  {
   "cell_type": "code",
   "execution_count": null,
   "id": "a5e656e9-ecd7-4956-82dc-9e052983080e",
   "metadata": {},
   "outputs": [],
   "source": []
  },
  {
   "cell_type": "code",
   "execution_count": null,
   "id": "6a392f67-17bc-4186-b1ce-b46b0a5ed434",
   "metadata": {},
   "outputs": [],
   "source": []
  },
  {
   "cell_type": "code",
   "execution_count": null,
   "id": "e7a14d78-08c5-4980-ae00-2925b57e0fe6",
   "metadata": {},
   "outputs": [],
   "source": []
  },
  {
   "cell_type": "code",
   "execution_count": null,
   "id": "c8e6df14-d10e-4cf1-bb74-b8f144a42afc",
   "metadata": {},
   "outputs": [],
   "source": []
  }
 ],
 "metadata": {
  "kernelspec": {
   "display_name": "Python 3 (ipykernel)",
   "language": "python",
   "name": "python3"
  },
  "language_info": {
   "codemirror_mode": {
    "name": "ipython",
    "version": 3
   },
   "file_extension": ".py",
   "mimetype": "text/x-python",
   "name": "python",
   "nbconvert_exporter": "python",
   "pygments_lexer": "ipython3",
   "version": "3.9.20"
  }
 },
 "nbformat": 4,
 "nbformat_minor": 5
}
