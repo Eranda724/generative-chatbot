{
 "cells": [
  {
   "cell_type": "code",
   "execution_count": 44,
   "id": "b8983631-00a6-4671-9237-ea062b5072af",
   "metadata": {},
   "outputs": [],
   "source": [
    "import numpy\n",
    "from tensorflow.keras.models import Sequential\n",
    "from tensorflow.keras.layers import Dense, Dropout, LSTM\n",
    "from tensorflow.keras.callbacks import ModelCheckpoint\n",
    "from tensorflow.keras.utils import to_categorical\n",
    "from tensorflow.keras.optimizers import Adam\n",
    "import sys"
   ]
  },
  {
   "cell_type": "code",
   "execution_count": 45,
   "id": "5dddb445-513d-43c4-854a-f6932c6b26de",
   "metadata": {},
   "outputs": [],
   "source": [
    "filename = \"alice_in_wonderland.txt\"  # Update with your dataset\n",
    "raw_text = open(filename, \"r\", encoding=\"utf-8\").read().lower()\n",
    "chars = sorted(list(set(raw_text)))\n",
    "char_to_int = dict((c, i) for i, c in enumerate(chars))\n",
    "int_to_char = dict((i, c) for i, c in enumerate(chars))"
   ]
  },
  {
   "cell_type": "code",
   "execution_count": 46,
   "id": "86d4a887-9ff5-4f4b-8ecd-adc3cd2b2975",
   "metadata": {},
   "outputs": [],
   "source": [
    "# Create training patterns\n",
    "seq_len = 100\n",
    "dataX = []\n",
    "dataY = []\n",
    "for i in range(0, len(raw_text) - seq_len, 1):\n",
    "    seq_in = raw_text[i:i + seq_len]\n",
    "    seq_out = raw_text[i + seq_len]\n",
    "    dataX.append([char_to_int[char] for char in seq_in])\n",
    "    dataY.append(char_to_int[seq_out])\n",
    "\n",
    "n_patterns = len(dataX)\n",
    "n_vocab = len(chars)\n",
    "\n",
    "X = numpy.reshape(dataX, (n_patterns, seq_len, 1))\n",
    "X = X / float(n_vocab)\n",
    "y = to_categorical(dataY)"
   ]
  },
  {
   "cell_type": "code",
   "execution_count": 47,
   "id": "2b3db62f-eb97-4019-aa2a-c1f7f6b86c5c",
   "metadata": {},
   "outputs": [],
   "source": [
    "model = Sequential()\n",
    "model.add(LSTM(512, return_sequences=True, input_shape=(X.shape[1], X.shape[2])))\n",
    "model.add(Dropout(0.2))\n",
    "model.add(LSTM(256))\n",
    "model.add(Dropout(0.2))\n",
    "model.add(Dense(y.shape[1], activation=\"softmax\"))"
   ]
  },
  {
   "cell_type": "code",
   "execution_count": 48,
   "id": "9c51f5d2-de1a-4b82-8757-0ddb6d130e69",
   "metadata": {},
   "outputs": [],
   "source": [
    "model.compile(loss=\"categorical_crossentropy\", optimizer=Adam(learning_rate=0.0001))"
   ]
  },
  {
   "cell_type": "code",
   "execution_count": 49,
   "id": "2917c030-6d9e-4b7c-9018-17347fd10061",
   "metadata": {},
   "outputs": [],
   "source": [
    "filepath = \"weights-improvement-{epoch:01d}-{loss:.4f}.hdf5\"  # Store path and type\n",
    "checkpoint = ModelCheckpoint(filepath, monitor=\"loss\", verbose=1, save_best_only=True)\n",
    "callbacks_list = [checkpoint]"
   ]
  },
  {
   "cell_type": "code",
   "execution_count": null,
   "id": "8d5935e9-fa69-45d3-96ca-47e4d16a058a",
   "metadata": {},
   "outputs": [
    {
     "name": "stdout",
     "output_type": "stream",
     "text": [
      "Epoch 1/20\n",
      "1160/1160 [==============================] - ETA: 0s - loss: 3.0552\n",
      "Epoch 1: loss improved from inf to 3.05517, saving model to weights-improvement-1-3.0552.hdf5\n",
      "1160/1160 [==============================] - 1028s 883ms/step - loss: 3.0552\n",
      "Epoch 2/20\n",
      "1061/1160 [==========================>...] - ETA: 1:28 - loss: 3.0106"
     ]
    }
   ],
   "source": [
    "model.fit(X, y, epochs=20, batch_size=128, callbacks=callbacks_list)"
   ]
  },
  {
   "cell_type": "code",
   "execution_count": null,
   "id": "1e6fae0f-eb4d-4f30-a26b-292ae6b2f0d1",
   "metadata": {},
   "outputs": [],
   "source": [
    "f_name = \"weights-improvement-14-2.0773.hdf5\"\n",
    "model.load_weights(f_name)"
   ]
  },
  {
   "cell_type": "code",
   "execution_count": null,
   "id": "84871a5b-627d-48ed-b6f5-05ecbed72389",
   "metadata": {},
   "outputs": [],
   "source": [
    "def generate_response(prompt, model, char_to_int, int_to_char, seq_len=100, n_vocab=0):\n",
    "    # Preprocess input\n",
    "    prompt = prompt.lower()\n",
    "    input_pattern = [char_to_int[char] for char in prompt if char in char_to_int]\n",
    "    \n",
    "    # Pad or trim input to match sequence length\n",
    "    while len(input_pattern) < seq_len:\n",
    "        input_pattern.insert(0, 0)  # Pad with zero\n",
    "    input_pattern = input_pattern[-seq_len:]\n",
    "    # Generate response\n",
    "    generated_text = \"\"\n",
    "    for _ in range(200):  # Limit response length\n",
    "        x = numpy.reshape(input_pattern, (1, seq_len, 1))\n",
    "        x = x / float(n_vocab)\n",
    "        prediction = model.predict(x, verbose=0)\n",
    "        index = numpy.argmax(prediction)\n",
    "        result = int_to_char[index]\n",
    "        generated_text += result\n",
    "        \n",
    "        # Update input pattern\n",
    "        input_pattern.append(index)\n",
    "        input_pattern = input_pattern[1:]\n",
    "    \n",
    "    return generated_text.strip()"
   ]
  },
  {
   "cell_type": "code",
   "execution_count": null,
   "id": "bc36e4de-3751-434d-95ae-df70311f27a9",
   "metadata": {},
   "outputs": [],
   "source": [
    "# Chat loop\n",
    "while True:\n",
    "    user_input = input(\"You: \")\n",
    "    if user_input.lower() in [\"exit\", \"quit\"]:\n",
    "        print(\"Chatbot: Goodbye!\")\n",
    "        break\n",
    "    response = generate_response(user_input, model, char_to_int, int_to_char, seq_len, n_vocab)\n",
    "    print(f\"Chatbot: {response}\")"
   ]
  },
  {
   "cell_type": "code",
   "execution_count": null,
   "id": "076a3102-c5d1-4514-8621-d3dc72bfc653",
   "metadata": {},
   "outputs": [],
   "source": []
  },
  {
   "cell_type": "code",
   "execution_count": null,
   "id": "bc34753b-283c-47f4-b904-05b0514d1228",
   "metadata": {},
   "outputs": [],
   "source": []
  },
  {
   "cell_type": "code",
   "execution_count": null,
   "id": "a5e656e9-ecd7-4956-82dc-9e052983080e",
   "metadata": {},
   "outputs": [],
   "source": []
  },
  {
   "cell_type": "code",
   "execution_count": null,
   "id": "6a392f67-17bc-4186-b1ce-b46b0a5ed434",
   "metadata": {},
   "outputs": [],
   "source": []
  },
  {
   "cell_type": "code",
   "execution_count": null,
   "id": "e7a14d78-08c5-4980-ae00-2925b57e0fe6",
   "metadata": {},
   "outputs": [],
   "source": []
  },
  {
   "cell_type": "code",
   "execution_count": null,
   "id": "c8e6df14-d10e-4cf1-bb74-b8f144a42afc",
   "metadata": {},
   "outputs": [],
   "source": []
  }
 ],
 "metadata": {
  "kernelspec": {
   "display_name": "Python 3 (ipykernel)",
   "language": "python",
   "name": "python3"
  },
  "language_info": {
   "codemirror_mode": {
    "name": "ipython",
    "version": 3
   },
   "file_extension": ".py",
   "mimetype": "text/x-python",
   "name": "python",
   "nbconvert_exporter": "python",
   "pygments_lexer": "ipython3",
   "version": "3.10.13"
  }
 },
 "nbformat": 4,
 "nbformat_minor": 5
}
